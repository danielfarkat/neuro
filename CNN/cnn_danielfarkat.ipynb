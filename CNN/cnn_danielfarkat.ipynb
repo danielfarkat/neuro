{
 "cells": [
  {
   "cell_type": "code",
   "execution_count": 1,
   "metadata": {},
   "outputs": [
    {
     "name": "stderr",
     "output_type": "stream",
     "text": [
      "2024-09-02 00:33:07.412679: I tensorflow/core/util/port.cc:110] oneDNN custom operations are on. You may see slightly different numerical results due to floating-point round-off errors from different computation orders. To turn them off, set the environment variable `TF_ENABLE_ONEDNN_OPTS=0`.\n",
      "2024-09-02 00:33:07.478674: I tensorflow/tsl/cuda/cudart_stub.cc:28] Could not find cuda drivers on your machine, GPU will not be used.\n",
      "2024-09-02 00:33:08.143716: I tensorflow/tsl/cuda/cudart_stub.cc:28] Could not find cuda drivers on your machine, GPU will not be used.\n",
      "2024-09-02 00:33:08.146586: I tensorflow/core/platform/cpu_feature_guard.cc:182] This TensorFlow binary is optimized to use available CPU instructions in performance-critical operations.\n",
      "To enable the following instructions: AVX2 AVX512F AVX512_VNNI FMA, in other operations, rebuild TensorFlow with the appropriate compiler flags.\n",
      "2024-09-02 00:33:10.380800: W tensorflow/compiler/tf2tensorrt/utils/py_utils.cc:38] TF-TRT Warning: Could not find TensorRT\n"
     ]
    }
   ],
   "source": [
    "import tensorflow as tf\n",
    "\n",
    "from tensorflow.keras import datasets, layers, models\n",
    "import matplotlib.pyplot as plt"
   ]
  },
  {
   "cell_type": "code",
   "execution_count": 3,
   "metadata": {},
   "outputs": [
    {
     "name": "stdout",
     "output_type": "stream",
     "text": [
      "Primeiras linhas do DataFrame:\n",
      "   0  1  5070  5070.1  5143  5216  5289  6636  6273  6317  ...  7500  7785  \\\n",
      "0  1  1  7263    7263  5778  4294  7061  7001  6830  6853  ...  7369  7544   \n",
      "1  2  1  5436    5436  5810  6184  6558  6343  6008  6061  ...  6162  6529   \n",
      "2  3  1  6139    6139  6531  6923  6854  6619  6350  6335  ...  6982  7323   \n",
      "3  4  1  6927    6927  6912  6897  6882  6694  6233  6610  ...  6198  7707   \n",
      "4  5  1  5152    5152  5691  6231  6771  7019  6879  6725  ...  7312  7520   \n",
      "\n",
      "   7665  7568  7149  6731  7592  7429  7267  6926  \n",
      "0  7405  7284  6628  5972  7385  7309  7233  7014  \n",
      "1  6611  6757  6542  6328  6816  7051  6548  6078  \n",
      "2  7448  7407  7104  6802  6856  7015  7175  6749  \n",
      "3  7683  7458  7140  6823  7546  7310  7149  6679  \n",
      "4  7440  7391  7437  7483  7529  7235  7225  7038  \n",
      "\n",
      "[5 rows x 35 columns]\n",
      "DataFrame após normalização:\n",
      "   0  1      5070    5070.1      5143      5216      5289      6636      6273  \\\n",
      "0  1  1  0.905195  0.905195  0.826235  0.747328  0.894454  0.891264  0.882172   \n",
      "1  2  1  0.808050  0.808050  0.827936  0.847823  0.867709  0.856277  0.838464   \n",
      "2  3  1  0.845430  0.845430  0.866273  0.887116  0.883448  0.870952  0.856649   \n",
      "3  4  1  0.887329  0.887329  0.886532  0.885734  0.884936  0.874940  0.850428   \n",
      "4  5  1  0.792949  0.792949  0.821609  0.850322  0.879034  0.892221  0.884777   \n",
      "\n",
      "       6317  ...      7500      7785      7665      7568      7149      6731  \\\n",
      "0  0.883394  ...  0.910831  0.920136  0.912745  0.906311  0.871431  0.836550   \n",
      "1  0.841283  ...  0.846653  0.866167  0.870527  0.878290  0.866858  0.855479   \n",
      "2  0.855852  ...  0.890254  0.908385  0.915032  0.912852  0.896741  0.880683   \n",
      "3  0.870474  ...  0.848567  0.928803  0.927527  0.915563  0.898655  0.881799   \n",
      "4  0.876589  ...  0.907800  0.918860  0.914606  0.912001  0.914447  0.916893   \n",
      "\n",
      "       7592      7429      7267      6926  \n",
      "0  0.911682  0.907641  0.903600  0.891955  \n",
      "1  0.881427  0.893922  0.867177  0.842186  \n",
      "2  0.883554  0.892008  0.900516  0.877865  \n",
      "3  0.920242  0.907694  0.899133  0.874143  \n",
      "4  0.919339  0.903706  0.903174  0.893231  \n",
      "\n",
      "[5 rows x 35 columns]\n"
     ]
    }
   ],
   "source": [
    "import pandas as pd\n",
    "\n",
    "# Caminho para o arquivo CSV\n",
    "csv_file_path = 'filtered_filled_ndvi_sample_interpolado_v3.csv'  # Substitua com o caminho do seu arquivo CSV\n",
    "\n",
    "# Ler o arquivo CSV\n",
    "df = pd.read_csv(csv_file_path)\n",
    "\n",
    "# Verificar as primeiras linhas do DataFrame para garantir que foi lido corretamente\n",
    "print(\"Primeiras linhas do DataFrame:\")\n",
    "print(df.head())\n",
    "\n",
    "# Definir os valores mínimo e máximo para normalização\n",
    "min_pixel_value = df.iloc[:, 2:].min().min()  # Valor mínimo em todas as colunas de pixel\n",
    "max_pixel_value = df.iloc[:, 2:].max().max()  # Valor máximo em todas as colunas de pixel\n",
    "\n",
    "# Identificar as colunas de pixel (a partir da terceira coluna)\n",
    "pixel_columns = df.columns[2:]\n",
    "\n",
    "# Normalizar os valores de pixel para o intervalo de 0 a 1\n",
    "df[pixel_columns] = df[pixel_columns].apply(lambda x: (x - min_pixel_value) / (max_pixel_value - min_pixel_value))\n",
    "\n",
    "# Verificar o DataFrame resultante\n",
    "print(\"DataFrame após normalização:\")\n",
    "print(df.head())\n",
    "\n",
    "# Salvar o DataFrame normalizado em um novo arquivo CSV (opcional)\n",
    "df.to_csv('seu_arquivo_normalizado.csv', index=False)\n"
   ]
  },
  {
   "cell_type": "code",
   "execution_count": 13,
   "metadata": {},
   "outputs": [
    {
     "name": "stdout",
     "output_type": "stream",
     "text": [
      "Primeiras linhas do DataFrame:\n",
      "   fid  tipo      pixel_1      pixel_2      pixel_3      pixel_4      pixel_5  \\\n",
      "0    0     1  5070.000000  5070.100000  5143.000000  5216.000000  5289.000000   \n",
      "1    1     1     0.905195     0.905195     0.826235     0.747328     0.894454   \n",
      "2    2     1     0.808050     0.808050     0.827936     0.847823     0.867709   \n",
      "3    3     1     0.845430     0.845430     0.866273     0.887116     0.883448   \n",
      "4    4     1     0.887329     0.887329     0.886532     0.885734     0.884936   \n",
      "\n",
      "       pixel_6      pixel_7      pixel_8  ...     pixel_24     pixel_25  \\\n",
      "0  6636.000000  6273.000000  6317.000000  ...  7500.000000  7785.000000   \n",
      "1     0.891264     0.882172     0.883394  ...     0.910831     0.920136   \n",
      "2     0.856277     0.838464     0.841283  ...     0.846653     0.866167   \n",
      "3     0.870952     0.856649     0.855852  ...     0.890254     0.908385   \n",
      "4     0.874940     0.850428     0.870474  ...     0.848567     0.928803   \n",
      "\n",
      "      pixel_26     pixel_27     pixel_28     pixel_29     pixel_30  \\\n",
      "0  7665.000000  7568.000000  7149.000000  6731.000000  7592.000000   \n",
      "1     0.912745     0.906311     0.871431     0.836550     0.911682   \n",
      "2     0.870527     0.878290     0.866858     0.855479     0.881427   \n",
      "3     0.915032     0.912852     0.896741     0.880683     0.883554   \n",
      "4     0.927527     0.915563     0.898655     0.881799     0.920242   \n",
      "\n",
      "      pixel_31     pixel_32     pixel_33  \n",
      "0  7429.000000  7267.000000  6926.000000  \n",
      "1     0.907641     0.903600     0.891955  \n",
      "2     0.893922     0.867177     0.842186  \n",
      "3     0.892008     0.900516     0.877865  \n",
      "4     0.907694     0.899133     0.874143  \n",
      "\n",
      "[5 rows x 35 columns]\n",
      "Dimensões dos conjuntos:\n",
      "Treinamento: (536, 33), Validação: (67, 33), Teste: (67, 33)\n"
     ]
    }
   ],
   "source": [
    "import pandas as pd\n",
    "from sklearn.model_selection import train_test_split\n",
    "\n",
    "# Caminho para o arquivo CSV\n",
    "csv_file_path = 'seu_arquivo_normalizado.csv'  # Substitua com o caminho do seu arquivo CSV\n",
    "\n",
    "# Ler o arquivo CSV sem cabeçalhos\n",
    "df = pd.read_csv(csv_file_path, header=None)\n",
    "\n",
    "# Nomear as colunas\n",
    "df.columns = ['fid', 'tipo'] + [f'pixel_{i}' for i in range(1, df.shape[1] - 2 + 1)]\n",
    "\n",
    "# Verificar as primeiras linhas do DataFrame para garantir que foi lido corretamente\n",
    "print(\"Primeiras linhas do DataFrame:\")\n",
    "print(df.head())\n",
    "\n",
    "# Normalizar os valores de pixel para o intervalo de 0 a 1\n",
    "min_pixel_value = df.iloc[:, 2:].min().min()  # Valor mínimo em todas as colunas de pixel\n",
    "max_pixel_value = df.iloc[:, 2:].max().max()  # Valor máximo em todas as colunas de pixel\n",
    "\n",
    "# Identificar as colunas de pixel (a partir da terceira coluna)\n",
    "pixel_columns = df.columns[2:]\n",
    "\n",
    "# Normalizar as colunas de pixel\n",
    "df[pixel_columns] = df[pixel_columns].apply(lambda x: (x - min_pixel_value) / (max_pixel_value - min_pixel_value))\n",
    "\n",
    "# Dividir os dados em características (X) e rótulos (y)\n",
    "X = df[pixel_columns]\n",
    "y = df[['fid', 'tipo']]  # Ajuste conforme necessário, se `tipo` for rótulo\n",
    "\n",
    "# Dividir em treinamento e teste (80% treinamento, 20% teste)\n",
    "X_train, X_temp, y_train, y_temp = train_test_split(X, y, test_size=0.2, random_state=42)\n",
    "\n",
    "# Dividir o conjunto de teste em validação e teste (50% validação, 50% teste do conjunto restante)\n",
    "X_val, X_test, y_val, y_test = train_test_split(X_temp, y_temp, test_size=0.5, random_state=42)\n",
    "\n",
    "# Verificar as dimensões dos conjuntos\n",
    "print(\"Dimensões dos conjuntos:\")\n",
    "print(f\"Treinamento: {X_train.shape}, Validação: {X_val.shape}, Teste: {X_test.shape}\")\n",
    "\n",
    "# Opcional: salvar os conjuntos em arquivos CSV\n",
    "X_train.to_csv('X_train.csv', index=False)\n",
    "X_val.to_csv('X_val.csv', index=False)\n",
    "X_test.to_csv('X_test.csv', index=False)\n",
    "y_train.to_csv('y_train.csv', index=False)\n",
    "y_val.to_csv('y_val.csv', index=False)\n",
    "y_test.to_csv('y_test.csv', index=False)\n"
   ]
  },
  {
   "cell_type": "code",
   "execution_count": 9,
   "metadata": {},
   "outputs": [
    {
     "data": {
      "text/plain": [
       "array([1, 0])"
      ]
     },
     "execution_count": 9,
     "metadata": {},
     "output_type": "execute_result"
    }
   ],
   "source": [
    "y['tipo'].unique()"
   ]
  },
  {
   "cell_type": "code",
   "execution_count": 22,
   "metadata": {},
   "outputs": [
    {
     "name": "stdout",
     "output_type": "stream",
     "text": [
      "Número total de pixels por imagem: 33\n",
      "Possíveis dimensões da imagem (largura, altura): [(1, 33), (3, 11)]\n",
      "Largura: 1, Altura: 33\n"
     ]
    },
    {
     "data": {
      "image/png": "[encoded data removed]",
      "text/plain": [
       "<Figure size 640x480 with 1 Axes>"
      ]
     },
     "metadata": {},
     "output_type": "display_data"
    }
   ],
   "source": [
    "import numpy as np\n",
    "import matplotlib.pyplot as plt\n",
    "\n",
    "# Assumindo que X_train é um DataFrame ou matriz com imagens como linhas\n",
    "X_train_array = X_train.to_numpy()\n",
    "\n",
    "# Verificar o número total de pixels por imagem\n",
    "num_pixels = X_train_array.shape[1]\n",
    "print(f\"Número total de pixels por imagem: {num_pixels}\")\n",
    "\n",
    "# Encontrar possíveis dimensões para a imagem\n",
    "def find_dimensions(num_pixels):\n",
    "    dimensions = []\n",
    "    for width in range(1, int(np.sqrt(num_pixels)) + 1):\n",
    "        if num_pixels % width == 0:\n",
    "            height = num_pixels // width\n",
    "            dimensions.append((width, height))\n",
    "    return dimensions\n",
    "\n",
    "possible_dimensions = find_dimensions(num_pixels)\n",
    "print(\"Possíveis dimensões da imagem (largura, altura):\", possible_dimensions)\n",
    "\n",
    "# Escolher uma dimensão para visualização, ou use a dimensão esperada\n",
    "if possible_dimensions:\n",
    "    image_width, image_height = possible_dimensions[0]  # Escolha a dimensão desejada\n",
    "else:\n",
    "    raise ValueError(\"Nenhuma dimensão válida encontrada para o número de pixels.\")\n",
    "\n",
    "print(f\"Largura: {image_width}, Altura: {image_height}\")\n",
    "\n",
    "# Exibir a primeira imagem para verificar o formato\n",
    "first_image = X_train_array[0].reshape(image_height, image_width)\n",
    "plt.imshow(first_image, cmap='gray')\n",
    "plt.title('Verificação do Tamanho da Imagem')\n",
    "plt.show()\n"
   ]
  },
  {
   "cell_type": "code",
   "execution_count": 25,
   "metadata": {},
   "outputs": [
    {
     "data": {
      "image/png": "[encoded data removed]",
      "text/plain": [
       "<Figure size 1500x900 with 33 Axes>"
      ]
     },
     "metadata": {},
     "output_type": "display_data"
    }
   ],
   "source": [
    "import matplotlib.pyplot as plt\n",
    "import numpy as np\n",
    "\n",
    "# Assumindo que X_train é um DataFrame ou matriz com imagens como linhas\n",
    "X_train_array = X_train.to_numpy()\n",
    "\n",
    "# Definir as dimensões da imagem\n",
    "image_width = 11  # Ajuste conforme suas dimensões\n",
    "image_height = 3  # Ajuste conforme suas dimensões\n",
    "\n",
    "# Verifique se a altura calculada é válida\n",
    "if X_train_array.shape[1] != image_width * image_height:\n",
    "    raise ValueError(\"O número total de pixels não corresponde às dimensões especificadas.\")\n",
    "\n",
    "# Configurar a figura para exibir as imagens\n",
    "plt.figure(figsize=(15, 9))  # Ajuste o tamanho da figura conforme necessário\n",
    "\n",
    "# Plotar 33 imagens em uma grade de 3 linhas e 11 colunas\n",
    "for i in range(33):  # 33 imagens\n",
    "    plt.subplot(3, 11, i + 1)\n",
    "    plt.xticks([])\n",
    "    plt.yticks([])\n",
    "    plt.grid(False)\n",
    "    \n",
    "    # Redefinir as dimensões da imagem\n",
    "    img = X_train_array[i].reshape(image_height, image_width)\n",
    "    plt.imshow(img, cmap='gray')  # Use 'gray' se as imagens são em escala de cinza\n",
    "    \n",
    "    # Exibir o nome da classe\n",
    "    plt.xlabel(class_names[int(y_train.iloc[i]['tipo'])])  # Ajuste 'tipo' conforme necessário\n",
    "\n",
    "plt.tight_layout()  # Ajusta o layout para evitar sobreposição\n",
    "plt.show()\n"
   ]
  },
  {
   "cell_type": "code",
   "execution_count": 28,
   "metadata": {},
   "outputs": [],
   "source": [
    "model = models.Sequential()\n",
    "model.add(layers.Conv2D(32, (3, 3), activation='relu', input_shape=(32, 32, 3)))\n",
    "model.add(layers.MaxPooling2D((2, 2)))\n",
    "model.add(layers.Conv2D(64, (3, 3), activation='relu'))\n",
    "model.add(layers.MaxPooling2D((2, 2)))\n",
    "model.add(layers.Conv2D(64, (3, 3), activation='relu'))"
   ]
  },
  {
   "cell_type": "code",
   "execution_count": 29,
   "metadata": {},
   "outputs": [
    {
     "name": "stdout",
     "output_type": "stream",
     "text": [
      "Model: \"sequential_2\"\n",
      "_________________________________________________________________\n",
      " Layer (type)                Output Shape              Param #   \n",
      "=================================================================\n",
      " conv2d_4 (Conv2D)           (None, 30, 30, 32)        896       \n",
      "                                                                 \n",
      " max_pooling2d_3 (MaxPoolin  (None, 15, 15, 32)        0         \n",
      " g2D)                                                            \n",
      "                                                                 \n",
      " conv2d_5 (Conv2D)           (None, 13, 13, 64)        18496     \n",
      "                                                                 \n",
      " max_pooling2d_4 (MaxPoolin  (None, 6, 6, 64)          0         \n",
      " g2D)                                                            \n",
      "                                                                 \n",
      " conv2d_6 (Conv2D)           (None, 4, 4, 64)          36928     \n",
      "                                                                 \n",
      "=================================================================\n",
      "Total params: 56320 (220.00 KB)\n",
      "Trainable params: 56320 (220.00 KB)\n",
      "Non-trainable params: 0 (0.00 Byte)\n",
      "_________________________________________________________________\n"
     ]
    }
   ],
   "source": [
    "model.summary()"
   ]
  },
  {
   "cell_type": "code",
   "execution_count": 30,
   "metadata": {},
   "outputs": [],
   "source": [
    "model.add(layers.Flatten())\n",
    "model.add(layers.Dense(64, activation='relu'))\n",
    "model.add(layers.Dense(10))"
   ]
  },
  {
   "cell_type": "code",
   "execution_count": 31,
   "metadata": {},
   "outputs": [
    {
     "name": "stdout",
     "output_type": "stream",
     "text": [
      "Model: \"sequential_2\"\n",
      "_________________________________________________________________\n",
      " Layer (type)                Output Shape              Param #   \n",
      "=================================================================\n",
      " conv2d_4 (Conv2D)           (None, 30, 30, 32)        896       \n",
      "                                                                 \n",
      " max_pooling2d_3 (MaxPoolin  (None, 15, 15, 32)        0         \n",
      " g2D)                                                            \n",
      "                                                                 \n",
      " conv2d_5 (Conv2D)           (None, 13, 13, 64)        18496     \n",
      "                                                                 \n",
      " max_pooling2d_4 (MaxPoolin  (None, 6, 6, 64)          0         \n",
      " g2D)                                                            \n",
      "                                                                 \n",
      " conv2d_6 (Conv2D)           (None, 4, 4, 64)          36928     \n",
      "                                                                 \n",
      " flatten_1 (Flatten)         (None, 1024)              0         \n",
      "                                                                 \n",
      " dense_2 (Dense)             (None, 64)                65600     \n",
      "                                                                 \n",
      " dense_3 (Dense)             (None, 10)                650       \n",
      "                                                                 \n",
      "=================================================================\n",
      "Total params: 122570 (478.79 KB)\n",
      "Trainable params: 122570 (478.79 KB)\n",
      "Non-trainable params: 0 (0.00 Byte)\n",
      "_________________________________________________________________\n"
     ]
    }
   ],
   "source": [
    "model.summary()"
   ]
  },
  {
   "cell_type": "code",
   "execution_count": 33,
   "metadata": {},
   "outputs": [
    {
     "name": "stdout",
     "output_type": "stream",
     "text": [
      "Dimensões dos conjuntos:\n",
      "Treinamento: (536, 33), Validação: (67, 33), Teste: (67, 33)\n"
     ]
    }
   ],
   "source": [
    "import pandas as pd\n",
    "from sklearn.model_selection import train_test_split\n",
    "\n",
    "# Caminho para o arquivo CSV\n",
    "csv_file_path = 'seu_arquivo_normalizado.csv'  # Substitua com o caminho do seu arquivo CSV\n",
    "\n",
    "# Ler o arquivo CSV sem cabeçalhos\n",
    "df = pd.read_csv(csv_file_path, header=None)\n",
    "\n",
    "# Nomear as colunas\n",
    "df.columns = ['fid', 'tipo'] + [f'pixel_{i}' for i in range(1, df.shape[1] - 1)]\n",
    "\n",
    "# Normalizar os valores de pixel para o intervalo de 0 a 1\n",
    "min_pixel_value = df.iloc[:, 2:].min().min()\n",
    "max_pixel_value = df.iloc[:, 2:].max().max()\n",
    "\n",
    "pixel_columns = df.columns[2:]\n",
    "df[pixel_columns] = df[pixel_columns].apply(lambda x: (x - min_pixel_value) / (max_pixel_value - min_pixel_value))\n",
    "\n",
    "# Dividir os dados em características (X) e rótulos (y)\n",
    "X = df[pixel_columns].values  # Convert to NumPy array\n",
    "y = df['tipo'].values         # Convert to NumPy array\n",
    "\n",
    "# Dividir em treinamento e teste (80% treinamento, 20% teste)\n",
    "X_train, X_temp, y_train, y_temp = train_test_split(X, y, test_size=0.2, random_state=42)\n",
    "\n",
    "# Dividir o conjunto de teste em validação e teste (50% validação, 50% teste do conjunto restante)\n",
    "X_val, X_test, y_val, y_test = train_test_split(X_temp, y_temp, test_size=0.5, random_state=42)\n",
    "\n",
    "# Verificar as dimensões dos conjuntos\n",
    "print(\"Dimensões dos conjuntos:\")\n",
    "print(f\"Treinamento: {X_train.shape}, Validação: {X_val.shape}, Teste: {X_test.shape}\")\n",
    "\n",
    "# Opcional: salvar os conjuntos em arquivos CSV\n",
    "pd.DataFrame(X_train).to_csv('X_train.csv', index=False)\n",
    "pd.DataFrame(X_val).to_csv('X_val.csv', index=False)\n",
    "pd.DataFrame(X_test).to_csv('X_test.csv', index=False)\n",
    "pd.DataFrame(y_train).to_csv('y_train.csv', index=False)\n",
    "pd.DataFrame(y_val).to_csv('y_val.csv', index=False)\n",
    "pd.DataFrame(y_test).to_csv('y_test.csv', index=False)\n"
   ]
  },
  {
   "cell_type": "code",
   "execution_count": 56,
   "metadata": {},
   "outputs": [
    {
     "name": "stdout",
     "output_type": "stream",
     "text": [
      "Model: \"sequential_9\"\n",
      "_________________________________________________________________\n",
      " Layer (type)                Output Shape              Param #   \n",
      "=================================================================\n",
      " dense_22 (Dense)            (None, 12)                408       \n",
      "                                                                 \n",
      " dense_23 (Dense)            (None, 1)                 13        \n",
      "                                                                 \n",
      " dense_24 (Dense)            (None, 100)               200       \n",
      "                                                                 \n",
      "=================================================================\n",
      "Total params: 621 (2.43 KB)\n",
      "Trainable params: 621 (2.43 KB)\n",
      "Non-trainable params: 0 (0.00 Byte)\n",
      "_________________________________________________________________\n"
     ]
    }
   ],
   "source": [
    "from tensorflow.keras import layers, models\n",
    "import tensorflow as tf\n",
    "\n",
    "# Definir o modelo\n",
    "model = models.Sequential()\n",
    "model.add(layers.InputLayer(input_shape=(33,)))  # Ajuste o tamanho de entrada para 33 pixels\n",
    "model.add(layers.Dense(12, activation='tanh'))\n",
    "model.add(layers.Dense(1, activation='tanh'))\n",
    "model.add(layers.Dense(100))  # Ajuste o número de classes conforme necessário\n",
    "\n",
    "# Compilar o modelo\n",
    "model.compile(optimizer='adam',\n",
    "              loss=tf.keras.losses.SparseCategoricalCrossentropy(from_logits=True),\n",
    "              metrics=['accuracy'])\n",
    "\n",
    "model.summary()\n"
   ]
  },
  {
   "cell_type": "code",
   "execution_count": 57,
   "metadata": {},
   "outputs": [
    {
     "name": "stdout",
     "output_type": "stream",
     "text": [
      "Epoch 1/20\n",
      "17/17 [==============================] - 0s 7ms/step - loss: 4.5821 - accuracy: 0.4869 - val_loss: 4.5549 - val_accuracy: 0.4030\n",
      "Epoch 2/20\n",
      "17/17 [==============================] - 0s 2ms/step - loss: 4.5275 - accuracy: 0.5168 - val_loss: 4.4960 - val_accuracy: 0.4030\n",
      "Epoch 3/20\n",
      "17/17 [==============================] - 0s 2ms/step - loss: 4.4624 - accuracy: 0.5168 - val_loss: 4.4250 - val_accuracy: 0.4030\n",
      "Epoch 4/20\n",
      "17/17 [==============================] - 0s 2ms/step - loss: 4.3841 - accuracy: 0.5168 - val_loss: 4.3401 - val_accuracy: 0.4030\n",
      "Epoch 5/20\n",
      "17/17 [==============================] - 0s 3ms/step - loss: 4.2920 - accuracy: 0.5168 - val_loss: 4.2422 - val_accuracy: 0.4030\n",
      "Epoch 6/20\n",
      "17/17 [==============================] - 0s 2ms/step - loss: 4.1885 - accuracy: 0.5168 - val_loss: 4.1351 - val_accuracy: 0.4030\n",
      "Epoch 7/20\n",
      "17/17 [==============================] - 0s 2ms/step - loss: 4.0784 - accuracy: 0.5168 - val_loss: 4.0244 - val_accuracy: 0.4030\n",
      "Epoch 8/20\n",
      "17/17 [==============================] - 0s 2ms/step - loss: 3.9672 - accuracy: 0.5168 - val_loss: 3.9149 - val_accuracy: 0.4030\n",
      "Epoch 9/20\n",
      "17/17 [==============================] - 0s 2ms/step - loss: 3.8592 - accuracy: 0.5168 - val_loss: 3.8100 - val_accuracy: 0.4030\n",
      "Epoch 10/20\n",
      "17/17 [==============================] - 0s 2ms/step - loss: 3.7565 - accuracy: 0.5168 - val_loss: 3.7107 - val_accuracy: 0.4030\n",
      "Epoch 11/20\n",
      "17/17 [==============================] - 0s 2ms/step - loss: 3.6597 - accuracy: 0.5168 - val_loss: 3.6172 - val_accuracy: 0.4030\n",
      "Epoch 12/20\n",
      "17/17 [==============================] - 0s 2ms/step - loss: 3.5685 - accuracy: 0.5168 - val_loss: 3.5289 - val_accuracy: 0.4030\n",
      "Epoch 13/20\n",
      "17/17 [==============================] - 0s 2ms/step - loss: 3.4821 - accuracy: 0.5168 - val_loss: 3.4448 - val_accuracy: 0.4030\n",
      "Epoch 14/20\n",
      "17/17 [==============================] - 0s 2ms/step - loss: 3.3996 - accuracy: 0.5168 - val_loss: 3.3644 - val_accuracy: 0.4030\n",
      "Epoch 15/20\n",
      "17/17 [==============================] - 0s 2ms/step - loss: 3.3206 - accuracy: 0.5168 - val_loss: 3.2871 - val_accuracy: 0.4030\n",
      "Epoch 16/20\n",
      "17/17 [==============================] - 0s 2ms/step - loss: 3.2444 - accuracy: 0.5168 - val_loss: 3.2124 - val_accuracy: 0.4030\n",
      "Epoch 17/20\n",
      "17/17 [==============================] - 0s 2ms/step - loss: 3.1707 - accuracy: 0.5168 - val_loss: 3.1400 - val_accuracy: 0.4030\n",
      "Epoch 18/20\n",
      "17/17 [==============================] - 0s 3ms/step - loss: 3.0991 - accuracy: 0.5168 - val_loss: 3.0695 - val_accuracy: 0.4030\n",
      "Epoch 19/20\n",
      "17/17 [==============================] - 0s 2ms/step - loss: 3.0295 - accuracy: 0.5168 - val_loss: 3.0008 - val_accuracy: 0.4030\n",
      "Epoch 20/20\n",
      "17/17 [==============================] - 0s 2ms/step - loss: 2.9617 - accuracy: 0.5168 - val_loss: 2.9339 - val_accuracy: 0.4030\n"
     ]
    }
   ],
   "source": [
    "# Treinar o modelo\n",
    "history = model.fit(X_train, y_train, epochs=20,\n",
    "                    validation_data=(X_val, y_val))\n"
   ]
  },
  {
   "cell_type": "code",
   "execution_count": 58,
   "metadata": {},
   "outputs": [
    {
     "name": "stdout",
     "output_type": "stream",
     "text": [
      "3/3 - 0s - loss: 2.9297 - accuracy: 0.4627 - 16ms/epoch - 5ms/step\n",
      "Test accuracy: 0.46268656849861145\n"
     ]
    }
   ],
   "source": [
    "# Avaliar o modelo\n",
    "test_loss, test_acc = model.evaluate(X_test, y_test, verbose=2)\n",
    "print(f\"Test accuracy: {test_acc}\")\n"
   ]
  },
  {
   "cell_type": "code",
   "execution_count": 59,
   "metadata": {},
   "outputs": [
    {
     "data": {
      "image/png": "[encoded data removed]",
      "text/plain": [
       "<Figure size 1200x500 with 2 Axes>"
      ]
     },
     "metadata": {},
     "output_type": "display_data"
    }
   ],
   "source": [
    "import matplotlib.pyplot as plt\n",
    "\n",
    "# Plotar a perda de treinamento e validação\n",
    "plt.figure(figsize=(12, 5))\n",
    "plt.subplot(1, 2, 1)\n",
    "plt.plot(history.history['loss'], label='loss')\n",
    "plt.plot(history.history['val_loss'], label='val_loss')\n",
    "plt.xlabel('Epoch')\n",
    "plt.ylabel('Loss')\n",
    "plt.legend(loc='upper right')\n",
    "plt.title('Perda de Treinamento e Validação')\n",
    "\n",
    "# Plotar a acurácia de treinamento e validação\n",
    "plt.subplot(1, 2, 2)\n",
    "plt.plot(history.history['accuracy'], label='accuracy')\n",
    "plt.plot(history.history['val_accuracy'], label='val_accuracy')\n",
    "plt.xlabel('Epoch')\n",
    "plt.ylabel('Accuracy')\n",
    "plt.legend(loc='lower right')\n",
    "plt.title('Acurácia de Treinamento e Validação')\n",
    "\n",
    "plt.tight_layout()\n",
    "plt.show()\n"
   ]
  }
 ],
 "metadata": {
  "kernelspec": {
   "display_name": "myenv",
   "language": "python",
   "name": "python3"
  },
  "language_info": {
   "codemirror_mode": {
    "name": "ipython",
    "version": 3
   },
   "file_extension": ".py",
   "mimetype": "text/x-python",
   "name": "python",
   "nbconvert_exporter": "python",
   "pygments_lexer": "ipython3",
   "version": "3.8.19"
  }
 },
 "nbformat": 4,
 "nbformat_minor": 2
}
