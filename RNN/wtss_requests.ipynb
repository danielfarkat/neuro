{
 "cells": [
  {
   "cell_type": "code",
   "execution_count": 1,
   "metadata": {},
   "outputs": [],
   "source": [
    "import wtss\n",
    "import pandas as pd\n",
    "import geopandas as gpd\n",
    "\n",
    "import numpy as np\n",
    "\n",
    "import tqdm"
   ]
  },
  {
   "cell_type": "code",
   "execution_count": 2,
   "metadata": {},
   "outputs": [],
   "source": [
    "rng = np.random.default_rng(20241217)"
   ]
  },
  {
   "cell_type": "code",
   "execution_count": 3,
   "metadata": {},
   "outputs": [],
   "source": [
    "base_dir = '/home/luiz_gabriel/projects/estimava_intensificacao_vertical_irrigacao/data/'\n",
    "pontos_path = base_dir + 'grades_com_id/grades_com_id_do_pivo.shp'"
   ]
  },
  {
   "cell_type": "code",
   "execution_count": 4,
   "metadata": {},
   "outputs": [],
   "source": [
    "pontos = gpd.read_file(pontos_path)"
   ]
  },
  {
   "cell_type": "code",
   "execution_count": 5,
   "metadata": {},
   "outputs": [
    {
     "data": {
      "text/html": [
       "<div>\n",
       "<style scoped>\n",
       "    .dataframe tbody tr th:only-of-type {\n",
       "        vertical-align: middle;\n",
       "    }\n",
       "\n",
       "    .dataframe tbody tr th {\n",
       "        vertical-align: top;\n",
       "    }\n",
       "\n",
       "    .dataframe thead th {\n",
       "        text-align: right;\n",
       "    }\n",
       "</style>\n",
       "<table border=\"1\" class=\"dataframe\">\n",
       "  <thead>\n",
       "    <tr style=\"text-align: right;\">\n",
       "      <th></th>\n",
       "      <th>left</th>\n",
       "      <th>top</th>\n",
       "      <th>right</th>\n",
       "      <th>bottom</th>\n",
       "      <th>Hectares</th>\n",
       "      <th>din_class</th>\n",
       "      <th>din_classF</th>\n",
       "      <th>id_2</th>\n",
       "      <th>id_ponto</th>\n",
       "      <th>geometry</th>\n",
       "    </tr>\n",
       "  </thead>\n",
       "  <tbody>\n",
       "    <tr>\n",
       "      <th>0</th>\n",
       "      <td>-47.378595</td>\n",
       "      <td>-16.784793</td>\n",
       "      <td>-47.377925</td>\n",
       "      <td>-16.784123</td>\n",
       "      <td>75.606338</td>\n",
       "      <td>WC</td>\n",
       "      <td>SAFRA DUPLA (INVERNO)</td>\n",
       "      <td>0</td>\n",
       "      <td>0</td>\n",
       "      <td>POINT (-47.3786 -16.78479)</td>\n",
       "    </tr>\n",
       "    <tr>\n",
       "      <th>1</th>\n",
       "      <td>-47.378595</td>\n",
       "      <td>-16.785463</td>\n",
       "      <td>-47.377925</td>\n",
       "      <td>-16.784793</td>\n",
       "      <td>75.606338</td>\n",
       "      <td>WC</td>\n",
       "      <td>SAFRA DUPLA (INVERNO)</td>\n",
       "      <td>0</td>\n",
       "      <td>1</td>\n",
       "      <td>POINT (-47.3786 -16.78546)</td>\n",
       "    </tr>\n",
       "    <tr>\n",
       "      <th>2</th>\n",
       "      <td>-47.378595</td>\n",
       "      <td>-16.786133</td>\n",
       "      <td>-47.377925</td>\n",
       "      <td>-16.785463</td>\n",
       "      <td>75.606338</td>\n",
       "      <td>WC</td>\n",
       "      <td>SAFRA DUPLA (INVERNO)</td>\n",
       "      <td>0</td>\n",
       "      <td>2</td>\n",
       "      <td>POINT (-47.3786 -16.78613)</td>\n",
       "    </tr>\n",
       "    <tr>\n",
       "      <th>3</th>\n",
       "      <td>-47.378595</td>\n",
       "      <td>-16.786803</td>\n",
       "      <td>-47.377925</td>\n",
       "      <td>-16.786133</td>\n",
       "      <td>75.606338</td>\n",
       "      <td>WC</td>\n",
       "      <td>SAFRA DUPLA (INVERNO)</td>\n",
       "      <td>0</td>\n",
       "      <td>3</td>\n",
       "      <td>POINT (-47.3786 -16.7868)</td>\n",
       "    </tr>\n",
       "    <tr>\n",
       "      <th>4</th>\n",
       "      <td>-47.378595</td>\n",
       "      <td>-16.787473</td>\n",
       "      <td>-47.377925</td>\n",
       "      <td>-16.786803</td>\n",
       "      <td>75.606338</td>\n",
       "      <td>WC</td>\n",
       "      <td>SAFRA DUPLA (INVERNO)</td>\n",
       "      <td>0</td>\n",
       "      <td>4</td>\n",
       "      <td>POINT (-47.3786 -16.78747)</td>\n",
       "    </tr>\n",
       "  </tbody>\n",
       "</table>\n",
       "</div>"
      ],
      "text/plain": [
       "        left        top      right     bottom   Hectares din_class  \\\n",
       "0 -47.378595 -16.784793 -47.377925 -16.784123  75.606338        WC   \n",
       "1 -47.378595 -16.785463 -47.377925 -16.784793  75.606338        WC   \n",
       "2 -47.378595 -16.786133 -47.377925 -16.785463  75.606338        WC   \n",
       "3 -47.378595 -16.786803 -47.377925 -16.786133  75.606338        WC   \n",
       "4 -47.378595 -16.787473 -47.377925 -16.786803  75.606338        WC   \n",
       "\n",
       "              din_classF  id_2  id_ponto                    geometry  \n",
       "0  SAFRA DUPLA (INVERNO)     0         0  POINT (-47.3786 -16.78479)  \n",
       "1  SAFRA DUPLA (INVERNO)     0         1  POINT (-47.3786 -16.78546)  \n",
       "2  SAFRA DUPLA (INVERNO)     0         2  POINT (-47.3786 -16.78613)  \n",
       "3  SAFRA DUPLA (INVERNO)     0         3   POINT (-47.3786 -16.7868)  \n",
       "4  SAFRA DUPLA (INVERNO)     0         4  POINT (-47.3786 -16.78747)  "
      ]
     },
     "execution_count": 5,
     "metadata": {},
     "output_type": "execute_result"
    }
   ],
   "source": [
    "pontos.head()"
   ]
  },
  {
   "cell_type": "code",
   "execution_count": 6,
   "metadata": {},
   "outputs": [
    {
     "name": "stderr",
     "output_type": "stream",
     "text": [
      "/tmp/ipykernel_13898/2341409223.py:1: DeprecationWarning: DataFrameGroupBy.apply operated on the grouping columns. This behavior is deprecated, and in a future version of pandas the grouping columns will be excluded from the operation. Either pass `include_groups=False` to exclude the groupings or explicitly select the grouping columns after groupby to silence this warning.\n",
      "  pontos = pontos.groupby('id_2', group_keys=False).apply(lambda x: x.sample(\n"
     ]
    }
   ],
   "source": [
    "pontos = pontos.groupby('id_2', group_keys=False).apply(lambda x: x.sample(\n",
    "    frac=0.20, random_state=rng))"
   ]
  },
  {
   "cell_type": "code",
   "execution_count": 7,
   "metadata": {},
   "outputs": [
    {
     "data": {
      "text/plain": [
       "['CBERS4-MUX-2M-1',\n",
       " 'CBERS4-WFI-16D-2',\n",
       " 'CBERS-WFI-8D-1',\n",
       " 'LANDSAT-16D-1',\n",
       " 'mod13q1-6.1',\n",
       " 'myd13q1-6.1',\n",
       " 'S2-16D-2']"
      ]
     },
     "execution_count": 7,
     "metadata": {},
     "output_type": "execute_result"
    }
   ],
   "source": [
    "servico = wtss.WTSS('https://data.inpe.br/bdc/wtss/v4/')\n",
    "servico.coverages"
   ]
  },
  {
   "cell_type": "code",
   "execution_count": 8,
   "metadata": {},
   "outputs": [],
   "source": [
    "cubo_s2 = servico['S2-16D-2']"
   ]
  },
  {
   "cell_type": "code",
   "execution_count": 9,
   "metadata": {},
   "outputs": [
    {
     "name": "stdout",
     "output_type": "stream",
     "text": [
      "Intervalo: [2024-07-27, 2017-01-01]\n"
     ]
    }
   ],
   "source": [
    "timeline = cubo_s2.timeline\n",
    "\n",
    "ultima_data_disponivel = timeline[0]\n",
    "primeira_data_disponivel = timeline[-1]\n",
    "\n",
    "print(f'Intervalo: [{primeira_data_disponivel}, {ultima_data_disponivel}]')"
   ]
  },
  {
   "cell_type": "code",
   "execution_count": 10,
   "metadata": {},
   "outputs": [],
   "source": [
    "start_date = '2017-06-01'\n",
    "end_date = '2022-12-31'\n",
    "\n",
    "attributes = ('NDVI', 'SCL')"
   ]
  },
  {
   "cell_type": "code",
   "execution_count": 11,
   "metadata": {},
   "outputs": [
    {
     "name": "stderr",
     "output_type": "stream",
     "text": [
      "Processando dados: 0data [00:00, ?data/s]"
     ]
    },
    {
     "name": "stderr",
     "output_type": "stream",
     "text": [
      "Processando dados: 23260data [5:21:40,  1.21data/s]\n"
     ]
    }
   ],
   "source": [
    "\n",
    "\n",
    "ndvi_values = []\n",
    "scl_values = []\n",
    "\n",
    "for id, geometry in tqdm.tqdm(zip(pontos.id_ponto.values,\n",
    "                                  pontos.geometry.values),\n",
    "                         desc=\"Processando dados\", unit=\"data\"):\n",
    "\n",
    "    timeseries = cubo_s2.ts(attributes=attributes,\n",
    "                            geom=geometry,\n",
    "                            start_date=start_date,\n",
    "                            end_date=end_date)\n",
    "    \n",
    "    tmp = timeseries.df('NDVI')   \n",
    "\n",
    "    ndvi_values.append(tmp.loc[tmp.attribute == 'NDVI', 'value'])\n",
    "    scl_values.append(tmp.loc[tmp.attribute == 'SCL', 'value'])\n",
    "\n"
   ]
  },
  {
   "cell_type": "code",
   "execution_count": null,
   "metadata": {},
   "outputs": [
    {
     "data": {
      "text/plain": [
       "array([    47,    113,    132, ..., 116282, 116288, 116293])"
      ]
     },
     "execution_count": 12,
     "metadata": {},
     "output_type": "execute_result"
    }
   ],
   "source": [
    "ndvi_values"
   ]
  },
  {
   "cell_type": "code",
   "execution_count": 17,
   "metadata": {},
   "outputs": [],
   "source": [
    "ndvi = pd.DataFrame(data = np.asarray(ndvi_values).T,\n",
    "                    columns=pontos.id_ponto.values,\n",
    "                    index=timeseries.ts.timeline)"
   ]
  },
  {
   "cell_type": "code",
   "execution_count": 19,
   "metadata": {},
   "outputs": [],
   "source": [
    "ndvi = ndvi.reset_index().rename(columns={'index': 'data'})"
   ]
  },
  {
   "cell_type": "code",
   "execution_count": 21,
   "metadata": {},
   "outputs": [],
   "source": [
    "ndvi.to_csv(base_dir + 'ndvi_sample_v2.csv')"
   ]
  },
  {
   "cell_type": "code",
   "execution_count": 22,
   "metadata": {},
   "outputs": [],
   "source": [
    "scl = pd.DataFrame(data = np.asarray(scl_values).T,\n",
    "                    columns=pontos.id_ponto.values,\n",
    "                    index=timeseries.ts.timeline)\n",
    "\n",
    "scl = scl.reset_index().rename(columns={'index': 'data'})\n"
   ]
  },
  {
   "cell_type": "code",
   "execution_count": 24,
   "metadata": {},
   "outputs": [],
   "source": [
    "scl.to_csv(base_dir + 'scl_sample_v2.csv')"
   ]
  }
 ],
 "metadata": {
  "kernelspec": {
   "display_name": "estimativa_intensificacao_vertical",
   "language": "python",
   "name": "python3"
  },
  "language_info": {
   "codemirror_mode": {
    "name": "ipython",
    "version": 3
   },
   "file_extension": ".py",
   "mimetype": "text/x-python",
   "name": "python",
   "nbconvert_exporter": "python",
   "pygments_lexer": "ipython3",
   "version": "3.10.13"
  }
 },
 "nbformat": 4,
 "nbformat_minor": 2
}
